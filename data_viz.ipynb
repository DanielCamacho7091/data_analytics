{
 "cells": [
  {
   "cell_type": "markdown",
   "metadata": {},
   "source": [
    "# **<span style=\"color: #FF5733;\">Data Visualization</span>**\n",
    "<span style=\"color: #FF5733;\">Daniel Camacho</span><br>\n",
    "<span style=\"color: #FF5733;\">dacamachoh1@gmail.com</span><br><br><br>\n",
    "\n",
    "Unos ejercicios de visualización de datos siguiendo los consejos en el libro: \n",
    "-   *Fundamentals of Data Visualization: A Primer on Making Informative and Compelling Figures* \n",
    "\n",
    "<img src=\"data_viz_book.png\" alt=\"Descripción de la imagen\" style=\"width: 400px;\">\n"
   ]
  },
  {
   "cell_type": "code",
   "execution_count": 1,
   "metadata": {},
   "outputs": [],
   "source": [
    "# Requerimientos: \n",
    "import os\n",
    "import json\n",
    "import pandas as pd\n",
    "import pandas as pd\n",
    "import numpy as np\n",
    "import matplotlib.pyplot as plt\n",
    "import seaborn as sns\n",
    "import plotly.express as px\n",
    "# import tensorflow as tf\n",
    "# import keras\n",
    "# import sklearn\n",
    "import os\n",
    "import re \n",
    "import warnings\n",
    "import plotly.io as pio\n",
    "\n",
    "# Especifica la ruta a tu archivo kaggle.json\n",
    "kaggle_json_path = './kaggle.json'\n",
    "\n",
    "# Carga las credenciales desde el archivo kaggle.json\n",
    "with open(kaggle_json_path, 'r') as file:\n",
    "    kaggle_credentials = json.load(file)\n",
    "\n",
    "os.environ['KAGGLE_USERNAME'] = kaggle_credentials['username']\n",
    "os.environ['KAGGLE_KEY'] = kaggle_credentials['key']\n",
    "from kaggle.api.kaggle_api_extended import KaggleApi\n",
    "\n",
    "\n",
    "# Ignorar todos los warnings\n",
    "warnings.filterwarnings('ignore')\n"
   ]
  },
  {
   "cell_type": "markdown",
   "metadata": {},
   "source": [
    "Obtener data de Kagle con credenciales de la API:"
   ]
  },
  {
   "cell_type": "code",
   "execution_count": 2,
   "metadata": {},
   "outputs": [
    {
     "name": "stdout",
     "output_type": "stream",
     "text": [
      "Dataset URL: https://www.kaggle.com/datasets/girumwondemagegn/dataset-for-renewable-energy-systems\n",
      "Datos descargados con éxito por medio de la API de Kaggle\n"
     ]
    }
   ],
   "source": [
    "# Autentica con Kaggle\n",
    "api = KaggleApi()\n",
    "api.authenticate()\n",
    "\n",
    "# Descarga el dataset\n",
    "dataset_path = 'girumwondemagegn/dataset-for-renewable-energy-systems'\n",
    "api.dataset_download_files(dataset_path, path='./data', unzip=True)\n",
    "\n",
    "message = 'Datos descargados con éxito por medio de la API de Kaggle'\n",
    "print(message)"
   ]
  },
  {
   "cell_type": "markdown",
   "metadata": {},
   "source": [
    "Leer data:"
   ]
  },
  {
   "cell_type": "code",
   "execution_count": 3,
   "metadata": {},
   "outputs": [
    {
     "name": "stdout",
     "output_type": "stream",
     "text": [
      "Dimensiones del dataframe: (15000, 13)\n"
     ]
    }
   ],
   "source": [
    "df = pd.read_csv('data/energy_dataset_.csv')\n",
    "print('Dimensiones del dataframe:', df.shape)"
   ]
  },
  {
   "cell_type": "markdown",
   "metadata": {},
   "source": [
    "Se va a tomar cierto material de esta [notebook](https://www.kaggle.com/code/edmund24/eda-of-renewable-energy-systems) para hacer comentarios. \n"
   ]
  },
  {
   "cell_type": "markdown",
   "metadata": {},
   "source": [
    "Por ejemplo, esta gráfica tiene un error: "
   ]
  },
  {
   "cell_type": "code",
   "execution_count": 4,
   "metadata": {},
   "outputs": [
    {
     "data": {
      "text/html": [
       "<div>\n",
       "<style scoped>\n",
       "    .dataframe tbody tr th:only-of-type {\n",
       "        vertical-align: middle;\n",
       "    }\n",
       "\n",
       "    .dataframe tbody tr th {\n",
       "        vertical-align: top;\n",
       "    }\n",
       "\n",
       "    .dataframe thead th {\n",
       "        text-align: right;\n",
       "    }\n",
       "</style>\n",
       "<table border=\"1\" class=\"dataframe\">\n",
       "  <thead>\n",
       "    <tr style=\"text-align: right;\">\n",
       "      <th></th>\n",
       "      <th>Type_of_Renewable_Energy</th>\n",
       "      <th>Installed_Capacity_MW</th>\n",
       "      <th>Energy_Production_MWh</th>\n",
       "      <th>Energy_Consumption_MWh</th>\n",
       "      <th>Energy_Storage_Capacity_MWh</th>\n",
       "      <th>Storage_Efficiency_Percentage</th>\n",
       "      <th>Grid_Integration_Level</th>\n",
       "      <th>Initial_Investment_USD</th>\n",
       "      <th>Funding_Sources</th>\n",
       "      <th>Financial_Incentives_USD</th>\n",
       "      <th>GHG_Emission_Reduction_tCO2e</th>\n",
       "      <th>Air_Pollution_Reduction_Index</th>\n",
       "      <th>Jobs_Created</th>\n",
       "    </tr>\n",
       "  </thead>\n",
       "  <tbody>\n",
       "    <tr>\n",
       "      <th>0</th>\n",
       "      <td>4</td>\n",
       "      <td>93.423205</td>\n",
       "      <td>103853.2206</td>\n",
       "      <td>248708.4892</td>\n",
       "      <td>2953.248771</td>\n",
       "      <td>89.887562</td>\n",
       "      <td>4</td>\n",
       "      <td>4.732248e+08</td>\n",
       "      <td>1</td>\n",
       "      <td>9.207772e+06</td>\n",
       "      <td>6663.816572</td>\n",
       "      <td>81.742461</td>\n",
       "      <td>1366</td>\n",
       "    </tr>\n",
       "    <tr>\n",
       "      <th>1</th>\n",
       "      <td>4</td>\n",
       "      <td>590.468942</td>\n",
       "      <td>190223.0649</td>\n",
       "      <td>166104.1642</td>\n",
       "      <td>5305.174042</td>\n",
       "      <td>84.403343</td>\n",
       "      <td>4</td>\n",
       "      <td>1.670697e+08</td>\n",
       "      <td>2</td>\n",
       "      <td>1.685101e+06</td>\n",
       "      <td>30656.049820</td>\n",
       "      <td>78.139042</td>\n",
       "      <td>1743</td>\n",
       "    </tr>\n",
       "    <tr>\n",
       "      <th>2</th>\n",
       "      <td>1</td>\n",
       "      <td>625.951142</td>\n",
       "      <td>266023.4824</td>\n",
       "      <td>424114.6308</td>\n",
       "      <td>2620.192622</td>\n",
       "      <td>60.498249</td>\n",
       "      <td>2</td>\n",
       "      <td>8.463610e+07</td>\n",
       "      <td>2</td>\n",
       "      <td>5.111813e+06</td>\n",
       "      <td>1749.613759</td>\n",
       "      <td>8.461296</td>\n",
       "      <td>363</td>\n",
       "    </tr>\n",
       "    <tr>\n",
       "      <th>3</th>\n",
       "      <td>1</td>\n",
       "      <td>779.998728</td>\n",
       "      <td>487039.5296</td>\n",
       "      <td>308337.7316</td>\n",
       "      <td>1925.250307</td>\n",
       "      <td>86.897861</td>\n",
       "      <td>3</td>\n",
       "      <td>3.967690e+08</td>\n",
       "      <td>2</td>\n",
       "      <td>4.805902e+06</td>\n",
       "      <td>43233.237820</td>\n",
       "      <td>8.402441</td>\n",
       "      <td>2821</td>\n",
       "    </tr>\n",
       "    <tr>\n",
       "      <th>4</th>\n",
       "      <td>3</td>\n",
       "      <td>242.106837</td>\n",
       "      <td>482815.0856</td>\n",
       "      <td>360437.7705</td>\n",
       "      <td>3948.945383</td>\n",
       "      <td>70.949351</td>\n",
       "      <td>2</td>\n",
       "      <td>3.574413e+07</td>\n",
       "      <td>1</td>\n",
       "      <td>1.668601e+07</td>\n",
       "      <td>14858.662760</td>\n",
       "      <td>28.822867</td>\n",
       "      <td>2583</td>\n",
       "    </tr>\n",
       "    <tr>\n",
       "      <th>5</th>\n",
       "      <td>1</td>\n",
       "      <td>596.174631</td>\n",
       "      <td>292384.4630</td>\n",
       "      <td>415449.6225</td>\n",
       "      <td>9767.234396</td>\n",
       "      <td>50.901906</td>\n",
       "      <td>3</td>\n",
       "      <td>4.491505e+08</td>\n",
       "      <td>2</td>\n",
       "      <td>1.131538e+07</td>\n",
       "      <td>16089.626080</td>\n",
       "      <td>9.038487</td>\n",
       "      <td>309</td>\n",
       "    </tr>\n",
       "    <tr>\n",
       "      <th>6</th>\n",
       "      <td>5</td>\n",
       "      <td>912.460626</td>\n",
       "      <td>166865.9068</td>\n",
       "      <td>268570.0281</td>\n",
       "      <td>9177.042493</td>\n",
       "      <td>54.345463</td>\n",
       "      <td>1</td>\n",
       "      <td>4.859538e+08</td>\n",
       "      <td>1</td>\n",
       "      <td>8.453916e+06</td>\n",
       "      <td>9140.340246</td>\n",
       "      <td>20.112187</td>\n",
       "      <td>3483</td>\n",
       "    </tr>\n",
       "    <tr>\n",
       "      <th>7</th>\n",
       "      <td>1</td>\n",
       "      <td>782.934466</td>\n",
       "      <td>277874.8920</td>\n",
       "      <td>228390.8408</td>\n",
       "      <td>8894.275957</td>\n",
       "      <td>72.323955</td>\n",
       "      <td>2</td>\n",
       "      <td>2.370064e+08</td>\n",
       "      <td>1</td>\n",
       "      <td>6.831258e+06</td>\n",
       "      <td>7054.752767</td>\n",
       "      <td>45.168505</td>\n",
       "      <td>4155</td>\n",
       "    </tr>\n",
       "    <tr>\n",
       "      <th>8</th>\n",
       "      <td>1</td>\n",
       "      <td>842.247822</td>\n",
       "      <td>456305.5836</td>\n",
       "      <td>364032.5316</td>\n",
       "      <td>1463.242396</td>\n",
       "      <td>73.447907</td>\n",
       "      <td>2</td>\n",
       "      <td>1.077780e+08</td>\n",
       "      <td>1</td>\n",
       "      <td>1.552282e+07</td>\n",
       "      <td>40329.047780</td>\n",
       "      <td>83.563567</td>\n",
       "      <td>4617</td>\n",
       "    </tr>\n",
       "    <tr>\n",
       "      <th>9</th>\n",
       "      <td>2</td>\n",
       "      <td>778.669295</td>\n",
       "      <td>401363.1727</td>\n",
       "      <td>216170.7123</td>\n",
       "      <td>1792.133939</td>\n",
       "      <td>90.592402</td>\n",
       "      <td>3</td>\n",
       "      <td>4.725459e+08</td>\n",
       "      <td>2</td>\n",
       "      <td>1.408617e+07</td>\n",
       "      <td>20564.874540</td>\n",
       "      <td>66.213957</td>\n",
       "      <td>727</td>\n",
       "    </tr>\n",
       "  </tbody>\n",
       "</table>\n",
       "</div>"
      ],
      "text/plain": [
       "   Type_of_Renewable_Energy  Installed_Capacity_MW  Energy_Production_MWh  \\\n",
       "0                         4              93.423205            103853.2206   \n",
       "1                         4             590.468942            190223.0649   \n",
       "2                         1             625.951142            266023.4824   \n",
       "3                         1             779.998728            487039.5296   \n",
       "4                         3             242.106837            482815.0856   \n",
       "5                         1             596.174631            292384.4630   \n",
       "6                         5             912.460626            166865.9068   \n",
       "7                         1             782.934466            277874.8920   \n",
       "8                         1             842.247822            456305.5836   \n",
       "9                         2             778.669295            401363.1727   \n",
       "\n",
       "   Energy_Consumption_MWh  Energy_Storage_Capacity_MWh  \\\n",
       "0             248708.4892                  2953.248771   \n",
       "1             166104.1642                  5305.174042   \n",
       "2             424114.6308                  2620.192622   \n",
       "3             308337.7316                  1925.250307   \n",
       "4             360437.7705                  3948.945383   \n",
       "5             415449.6225                  9767.234396   \n",
       "6             268570.0281                  9177.042493   \n",
       "7             228390.8408                  8894.275957   \n",
       "8             364032.5316                  1463.242396   \n",
       "9             216170.7123                  1792.133939   \n",
       "\n",
       "   Storage_Efficiency_Percentage  Grid_Integration_Level  \\\n",
       "0                      89.887562                       4   \n",
       "1                      84.403343                       4   \n",
       "2                      60.498249                       2   \n",
       "3                      86.897861                       3   \n",
       "4                      70.949351                       2   \n",
       "5                      50.901906                       3   \n",
       "6                      54.345463                       1   \n",
       "7                      72.323955                       2   \n",
       "8                      73.447907                       2   \n",
       "9                      90.592402                       3   \n",
       "\n",
       "   Initial_Investment_USD  Funding_Sources  Financial_Incentives_USD  \\\n",
       "0            4.732248e+08                1              9.207772e+06   \n",
       "1            1.670697e+08                2              1.685101e+06   \n",
       "2            8.463610e+07                2              5.111813e+06   \n",
       "3            3.967690e+08                2              4.805902e+06   \n",
       "4            3.574413e+07                1              1.668601e+07   \n",
       "5            4.491505e+08                2              1.131538e+07   \n",
       "6            4.859538e+08                1              8.453916e+06   \n",
       "7            2.370064e+08                1              6.831258e+06   \n",
       "8            1.077780e+08                1              1.552282e+07   \n",
       "9            4.725459e+08                2              1.408617e+07   \n",
       "\n",
       "   GHG_Emission_Reduction_tCO2e  Air_Pollution_Reduction_Index  Jobs_Created  \n",
       "0                   6663.816572                      81.742461          1366  \n",
       "1                  30656.049820                      78.139042          1743  \n",
       "2                   1749.613759                       8.461296           363  \n",
       "3                  43233.237820                       8.402441          2821  \n",
       "4                  14858.662760                      28.822867          2583  \n",
       "5                  16089.626080                       9.038487           309  \n",
       "6                   9140.340246                      20.112187          3483  \n",
       "7                   7054.752767                      45.168505          4155  \n",
       "8                  40329.047780                      83.563567          4617  \n",
       "9                  20564.874540                      66.213957           727  "
      ]
     },
     "execution_count": 4,
     "metadata": {},
     "output_type": "execute_result"
    }
   ],
   "source": [
    "df.head(10)"
   ]
  },
  {
   "cell_type": "code",
   "execution_count": 14,
   "metadata": {},
   "outputs": [
    {
     "name": "stdout",
     "output_type": "stream",
     "text": [
      "\n",
      ">>> Wrong:\n"
     ]
    },
    {
     "data": {
      "image/png": "[encoded data removed]",
      "text/plain": [
       "<Figure size 1000x300 with 1 Axes>"
      ]
     },
     "metadata": {},
     "output_type": "display_data"
    }
   ],
   "source": [
    "plt.figure(figsize=(10, 3))\n",
    "sns.barplot(x='Type_of_Renewable_Energy', y='Installed_Capacity_MW', data=df, ci=None, palette='viridis')\n",
    "plt.title('Installed Capacity of Different Types of Renewable Energy')\n",
    "plt.xlabel('Type of Renewable Energy')\n",
    "plt.ylabel('Installed Capacity (MW)')\n",
    "plt.xticks(ticks=[0, 1, 2, 3, 4, 5, 6], labels=['Solar', 'Wind', 'Hydroelectric', 'Geothermal', 'Biomass', 'Tidal', 'Wave'])\n",
    "print('\\n>>> Wrong:')\n",
    "plt.show()"
   ]
  },
  {
   "cell_type": "markdown",
   "metadata": {},
   "source": [
    "Errores de esa gráfica: \n",
    "-   No se sabe cuál tiene más MW\n",
    "-   ni cuánta es la diferencia\n",
    "-   Ni se sabe si es la media, mediana o que en el eje y\n",
    "\n",
    "Corrección, usando plotly:"
   ]
  },
  {
   "cell_type": "code",
   "execution_count": 6,
   "metadata": {},
   "outputs": [
    {
     "name": "stdout",
     "output_type": "stream",
     "text": [
      "<class 'pandas.core.frame.DataFrame'>\n",
      "RangeIndex: 15000 entries, 0 to 14999\n",
      "Data columns (total 13 columns):\n",
      " #   Column                         Non-Null Count  Dtype  \n",
      "---  ------                         --------------  -----  \n",
      " 0   Type_of_Renewable_Energy       15000 non-null  int64  \n",
      " 1   Installed_Capacity_MW          15000 non-null  float64\n",
      " 2   Energy_Production_MWh          15000 non-null  float64\n",
      " 3   Energy_Consumption_MWh         15000 non-null  float64\n",
      " 4   Energy_Storage_Capacity_MWh    15000 non-null  float64\n",
      " 5   Storage_Efficiency_Percentage  15000 non-null  float64\n",
      " 6   Grid_Integration_Level         15000 non-null  int64  \n",
      " 7   Initial_Investment_USD         15000 non-null  float64\n",
      " 8   Funding_Sources                15000 non-null  int64  \n",
      " 9   Financial_Incentives_USD       15000 non-null  float64\n",
      " 10  GHG_Emission_Reduction_tCO2e   15000 non-null  float64\n",
      " 11  Air_Pollution_Reduction_Index  15000 non-null  float64\n",
      " 12  Jobs_Created                   15000 non-null  int64  \n",
      "dtypes: float64(9), int64(4)\n",
      "memory usage: 1.5 MB\n"
     ]
    }
   ],
   "source": [
    "df.info()"
   ]
  },
  {
   "cell_type": "code",
   "execution_count": 15,
   "metadata": {},
   "outputs": [
    {
     "name": "stdout",
     "output_type": "stream",
     "text": [
      "\n",
      ">>> Good:\n"
     ]
    },
    {
     "data": {
      "image/png": "[encoded data removed]",
      "text/plain": [
       "<IPython.core.display.Image object>"
      ]
     },
     "execution_count": 15,
     "metadata": {},
     "output_type": "execute_result"
    }
   ],
   "source": [
    "import pandas as pd\n",
    "import plotly.express as px\n",
    "import plotly.io as pio\n",
    "from IPython.display import Image\n",
    "\n",
    "# Crear variable de eje\n",
    "energy_map = {\n",
    "    1: 'Solar',\n",
    "    2: 'Wind',\n",
    "    3: 'Hydroelectric',\n",
    "    4: 'Geothermal',\n",
    "    5: 'Biomass',\n",
    "    6: 'Tidal',\n",
    "    7: 'Wave'\n",
    "}\n",
    "\n",
    "# Crear la columna 'Type_of_Renewable_Energy_label'\n",
    "df['Type_of_Renewable_Energy_label'] = df['Type_of_Renewable_Energy'].map(energy_map)\n",
    "\n",
    "# Agrupar a la media\n",
    "tab = df.groupby('Type_of_Renewable_Energy_label').agg(\n",
    "    Installed_Capacity_MW = ('Installed_Capacity_MW', 'mean')).reset_index()\n",
    "\n",
    "# Redondear para verla más limpia\n",
    "tab['Installed_Capacity_MW'] = tab['Installed_Capacity_MW'].round(1)\n",
    "\n",
    "fig = px.bar(tab, \n",
    "             x='Type_of_Renewable_Energy_label', \n",
    "             y='Installed_Capacity_MW',\n",
    "             title='Installed Capacity of Different Types of Renewable Energy',\n",
    "             labels={'Type_of_Renewable_Energy_label': 'Type of Renewable Energy', \n",
    "                     'Installed_Capacity_MW': 'Installed Capacity (MW)'},\n",
    "             text='Installed_Capacity_MW')\n",
    "\n",
    "# Guardar la imagen como PNG\n",
    "pio.write_image(fig, 'plots/plot1.png', width=900, height=400)\n",
    "\n",
    "# Mostrar la imagen guardada\n",
    "print('\\n>>> Good:')\n",
    "Image('plots/plot1.png')"
   ]
  }
 ],
 "metadata": {
  "kernelspec": {
   "display_name": ".venv",
   "language": "python",
   "name": "python3"
  },
  "language_info": {
   "codemirror_mode": {
    "name": "ipython",
    "version": 3
   },
   "file_extension": ".py",
   "mimetype": "text/x-python",
   "name": "python",
   "nbconvert_exporter": "python",
   "pygments_lexer": "ipython3",
   "version": "3.11.6"
  }
 },
 "nbformat": 4,
 "nbformat_minor": 2
}
