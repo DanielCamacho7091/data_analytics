{
 "cells": [
  {
   "cell_type": "markdown",
   "metadata": {},
   "source": [
    "# **<span style=\"color: #9BEEE7;\">Data Visualization</span>**\n",
    "\n",
    "Unos ejercicios de visualización de datos siguiendo los consejos en el libro: \n",
    "-   *Fundamentals of Data Visualization: A Primer on Making Informative and Compelling Figures* \n",
    "\n",
    "<img src=\"data_viz_book.png\" alt=\"Descripción de la imagen\" style=\"width: 400px;\">\n"
   ]
  }
 ],
 "metadata": {
  "language_info": {
   "name": "python"
  }
 },
 "nbformat": 4,
 "nbformat_minor": 2
}
