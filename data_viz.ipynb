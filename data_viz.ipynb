{
 "cells": [
  {
   "cell_type": "markdown",
   "metadata": {},
   "source": [
    "# **<span style=\"color: #FF5733;\">Data Visualization</span>**\n",
    "<span style=\"color: #FF5733;\">Daniel Camacho</span><br>\n",
    "<span style=\"color: #FF5733;\">dacamachoh1@gmail.com</span><br><br><br>\n",
    "\n",
    "Unos ejercicios de visualización de datos siguiendo los consejos en el libro: \n",
    "-   *Fundamentals of Data Visualization: A Primer on Making Informative and Compelling Figures* \n",
    "\n",
    "<img src=\"data_viz_book.png\" alt=\"Descripción de la imagen\" style=\"width: 400px;\">\n"
   ]
  },
  {
   "cell_type": "markdown",
   "metadata": {},
   "source": [
    "Obtener data de Kagle con credenciales de la API:"
   ]
  },
  {
   "cell_type": "code",
   "execution_count": 12,
   "metadata": {},
   "outputs": [
    {
     "name": "stdout",
     "output_type": "stream",
     "text": [
      "Dataset URL: https://www.kaggle.com/datasets/girumwondemagegn/dataset-for-renewable-energy-systems\n"
     ]
    }
   ],
   "source": [
    "import os\n",
    "from kaggle.api.kaggle_api_extended import KaggleApi\n",
    "import json\n",
    "\n",
    "# Especifica la ruta a tu archivo kaggle.json\n",
    "kaggle_json_path = './kaggle.json'\n",
    "\n",
    "# Carga las credenciales desde el archivo kaggle.json\n",
    "with open(kaggle_json_path, 'r') as file:\n",
    "    kaggle_credentials = json.load(file)\n",
    "\n",
    "os.environ['KAGGLE_USERNAME'] = kaggle_credentials['username']\n",
    "os.environ['KAGGLE_KEY'] = kaggle_credentials['key']\n",
    "\n",
    "# Autentica con Kaggle\n",
    "api = KaggleApi()\n",
    "api.authenticate()\n",
    "\n",
    "# Descarga el dataset\n",
    "dataset_path = 'girumwondemagegn/dataset-for-renewable-energy-systems'\n",
    "api.dataset_download_files(dataset_path, path='./data', unzip=True)\n"
   ]
  },
  {
   "cell_type": "markdown",
   "metadata": {},
   "source": [
    "Importar data "
   ]
  },
  {
   "cell_type": "code",
   "execution_count": null,
   "metadata": {},
   "outputs": [],
   "source": []
  }
 ],
 "metadata": {
  "kernelspec": {
   "display_name": ".venv",
   "language": "python",
   "name": "python3"
  },
  "language_info": {
   "codemirror_mode": {
    "name": "ipython",
    "version": 3
   },
   "file_extension": ".py",
   "mimetype": "text/x-python",
   "name": "python",
   "nbconvert_exporter": "python",
   "pygments_lexer": "ipython3",
   "version": "3.11.6"
  }
 },
 "nbformat": 4,
 "nbformat_minor": 2
}
